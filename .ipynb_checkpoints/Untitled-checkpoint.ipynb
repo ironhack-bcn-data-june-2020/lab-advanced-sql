{
 "cells": [
  {
   "cell_type": "code",
   "execution_count": 8,
   "id": "5588d17f",
   "metadata": {},
   "outputs": [
    {
     "name": "stdout",
     "output_type": "stream",
     "text": [
      "The sql extension is already loaded. To reload it, use:\n",
      "  %reload_ext sql\n"
     ]
    }
   ],
   "source": [
    "%load_ext sql"
   ]
  },
  {
   "cell_type": "code",
   "execution_count": 9,
   "id": "4010d861",
   "metadata": {},
   "outputs": [],
   "source": [
    "%sql sqlite:////Users/nestormirandabaez/Ironhack/Module_1/Week_8/20-lab-sql-select/publications.db"
   ]
  },
  {
   "cell_type": "code",
   "execution_count": 10,
   "id": "a9af1bdd",
   "metadata": {},
   "outputs": [
    {
     "name": "stdout",
     "output_type": "stream",
     "text": [
      " * sqlite:////Users/nestormirandabaez/Ironhack/Module_1/Week_8/20-lab-sql-select/publications.db\n",
      "Done.\n"
     ]
    },
    {
     "data": {
      "text/html": [
       "<table>\n",
       "    <tr>\n",
       "        <th>name</th>\n",
       "    </tr>\n",
       "    <tr>\n",
       "        <td>authors</td>\n",
       "    </tr>\n",
       "    <tr>\n",
       "        <td>discounts</td>\n",
       "    </tr>\n",
       "    <tr>\n",
       "        <td>employee</td>\n",
       "    </tr>\n",
       "    <tr>\n",
       "        <td>jobs</td>\n",
       "    </tr>\n",
       "    <tr>\n",
       "        <td>pub_info</td>\n",
       "    </tr>\n",
       "    <tr>\n",
       "        <td>publishers</td>\n",
       "    </tr>\n",
       "    <tr>\n",
       "        <td>roysched</td>\n",
       "    </tr>\n",
       "    <tr>\n",
       "        <td>sales</td>\n",
       "    </tr>\n",
       "    <tr>\n",
       "        <td>stores</td>\n",
       "    </tr>\n",
       "    <tr>\n",
       "        <td>titleauthor</td>\n",
       "    </tr>\n",
       "    <tr>\n",
       "        <td>titles</td>\n",
       "    </tr>\n",
       "</table>"
      ],
      "text/plain": [
       "[('authors',),\n",
       " ('discounts',),\n",
       " ('employee',),\n",
       " ('jobs',),\n",
       " ('pub_info',),\n",
       " ('publishers',),\n",
       " ('roysched',),\n",
       " ('sales',),\n",
       " ('stores',),\n",
       " ('titleauthor',),\n",
       " ('titles',)]"
      ]
     },
     "execution_count": 10,
     "metadata": {},
     "output_type": "execute_result"
    }
   ],
   "source": [
    "%%sql\n",
    "Select name \n",
    "from sqlite_master\n",
    "where type='table'"
   ]
  },
  {
   "cell_type": "markdown",
   "id": "56ba0894",
   "metadata": {},
   "source": [
    "#### Explore sales table"
   ]
  },
  {
   "cell_type": "code",
   "execution_count": 11,
   "id": "81d758ca",
   "metadata": {},
   "outputs": [
    {
     "name": "stdout",
     "output_type": "stream",
     "text": [
      " * sqlite:////Users/nestormirandabaez/Ironhack/Module_1/Week_8/20-lab-sql-select/publications.db\n",
      "Done.\n"
     ]
    },
    {
     "data": {
      "text/html": [
       "<table>\n",
       "    <tr>\n",
       "        <th>stor_id</th>\n",
       "        <th>ord_num</th>\n",
       "        <th>ord_date</th>\n",
       "        <th>qty</th>\n",
       "        <th>payterms</th>\n",
       "        <th>title_id</th>\n",
       "    </tr>\n",
       "    <tr>\n",
       "        <td>6380</td>\n",
       "        <td>6871</td>\n",
       "        <td>1994-09-14 00:00:00</td>\n",
       "        <td>5</td>\n",
       "        <td>Net 60</td>\n",
       "        <td>BU1032</td>\n",
       "    </tr>\n",
       "    <tr>\n",
       "        <td>6380</td>\n",
       "        <td>722a</td>\n",
       "        <td>1994-09-13 00:00:00</td>\n",
       "        <td>3</td>\n",
       "        <td>Net 60</td>\n",
       "        <td>PS2091</td>\n",
       "    </tr>\n",
       "    <tr>\n",
       "        <td>7066</td>\n",
       "        <td>A2976</td>\n",
       "        <td>1993-05-24 00:00:00</td>\n",
       "        <td>50</td>\n",
       "        <td>Net 30</td>\n",
       "        <td>PC8888</td>\n",
       "    </tr>\n",
       "    <tr>\n",
       "        <td>7066</td>\n",
       "        <td>QA7442.3</td>\n",
       "        <td>1994-09-13 00:00:00</td>\n",
       "        <td>75</td>\n",
       "        <td>ON invoice</td>\n",
       "        <td>PS2091</td>\n",
       "    </tr>\n",
       "    <tr>\n",
       "        <td>7067</td>\n",
       "        <td>D4482</td>\n",
       "        <td>1994-09-14 00:00:00</td>\n",
       "        <td>10</td>\n",
       "        <td>Net 60</td>\n",
       "        <td>PS2091</td>\n",
       "    </tr>\n",
       "</table>"
      ],
      "text/plain": [
       "[('6380', '6871', '1994-09-14 00:00:00', 5, 'Net 60', 'BU1032'),\n",
       " ('6380', '722a', '1994-09-13 00:00:00', 3, 'Net 60', 'PS2091'),\n",
       " ('7066', 'A2976', '1993-05-24 00:00:00', 50, 'Net 30', 'PC8888'),\n",
       " ('7066', 'QA7442.3', '1994-09-13 00:00:00', 75, 'ON invoice', 'PS2091'),\n",
       " ('7067', 'D4482', '1994-09-14 00:00:00', 10, 'Net 60', 'PS2091')]"
      ]
     },
     "execution_count": 11,
     "metadata": {},
     "output_type": "execute_result"
    }
   ],
   "source": [
    "%%sql\n",
    "Select *\n",
    "from sales\n",
    "limit 5"
   ]
  },
  {
   "cell_type": "markdown",
   "id": "e6bf6ce2",
   "metadata": {},
   "source": [
    "#### Explore roysched table"
   ]
  },
  {
   "cell_type": "code",
   "execution_count": 12,
   "id": "3f1572a9",
   "metadata": {},
   "outputs": [
    {
     "name": "stdout",
     "output_type": "stream",
     "text": [
      " * sqlite:////Users/nestormirandabaez/Ironhack/Module_1/Week_8/20-lab-sql-select/publications.db\n",
      "Done.\n"
     ]
    },
    {
     "data": {
      "text/html": [
       "<table>\n",
       "    <tr>\n",
       "        <th>title_id</th>\n",
       "        <th>lorange</th>\n",
       "        <th>hirange</th>\n",
       "        <th>royalty</th>\n",
       "    </tr>\n",
       "    <tr>\n",
       "        <td>BU1032</td>\n",
       "        <td>0</td>\n",
       "        <td>5000</td>\n",
       "        <td>10</td>\n",
       "    </tr>\n",
       "    <tr>\n",
       "        <td>BU1032</td>\n",
       "        <td>5001</td>\n",
       "        <td>50000</td>\n",
       "        <td>12</td>\n",
       "    </tr>\n",
       "    <tr>\n",
       "        <td>PC1035</td>\n",
       "        <td>0</td>\n",
       "        <td>2000</td>\n",
       "        <td>10</td>\n",
       "    </tr>\n",
       "    <tr>\n",
       "        <td>PC1035</td>\n",
       "        <td>2001</td>\n",
       "        <td>3000</td>\n",
       "        <td>12</td>\n",
       "    </tr>\n",
       "    <tr>\n",
       "        <td>PC1035</td>\n",
       "        <td>3001</td>\n",
       "        <td>4000</td>\n",
       "        <td>14</td>\n",
       "    </tr>\n",
       "</table>"
      ],
      "text/plain": [
       "[('BU1032', 0, 5000, 10),\n",
       " ('BU1032', 5001, 50000, 12),\n",
       " ('PC1035', 0, 2000, 10),\n",
       " ('PC1035', 2001, 3000, 12),\n",
       " ('PC1035', 3001, 4000, 14)]"
      ]
     },
     "execution_count": 12,
     "metadata": {},
     "output_type": "execute_result"
    }
   ],
   "source": [
    "%%sql\n",
    "Select *\n",
    "from roysched\n",
    "limit 5"
   ]
  },
  {
   "cell_type": "code",
   "execution_count": 13,
   "id": "ed10d3ea",
   "metadata": {},
   "outputs": [
    {
     "name": "stdout",
     "output_type": "stream",
     "text": [
      " * sqlite:////Users/nestormirandabaez/Ironhack/Module_1/Week_8/20-lab-sql-select/publications.db\n",
      "Done.\n"
     ]
    },
    {
     "data": {
      "text/html": [
       "<table>\n",
       "    <tr>\n",
       "        <th>title_id</th>\n",
       "        <th>title</th>\n",
       "        <th>type</th>\n",
       "        <th>pub_id</th>\n",
       "        <th>price</th>\n",
       "        <th>advance</th>\n",
       "        <th>royalty</th>\n",
       "        <th>ytd_sales</th>\n",
       "        <th>notes</th>\n",
       "        <th>pubdate</th>\n",
       "    </tr>\n",
       "    <tr>\n",
       "        <td>BU1032</td>\n",
       "        <td>The Busy Executive&#x27;s Database Guide</td>\n",
       "        <td>business</td>\n",
       "        <td>1389</td>\n",
       "        <td>19.99</td>\n",
       "        <td>5000</td>\n",
       "        <td>10</td>\n",
       "        <td>4095</td>\n",
       "        <td>An overview of available database systems with emphasis on common business applications. Illustrated.</td>\n",
       "        <td>1991-06-12 00:00:00</td>\n",
       "    </tr>\n",
       "    <tr>\n",
       "        <td>BU1111</td>\n",
       "        <td>Cooking with Computers: Surreptitious Balance Sheets</td>\n",
       "        <td>business</td>\n",
       "        <td>1389</td>\n",
       "        <td>11.95</td>\n",
       "        <td>5000</td>\n",
       "        <td>10</td>\n",
       "        <td>3876</td>\n",
       "        <td>Helpful hints on how to use your electronic resources to the best advantage.</td>\n",
       "        <td>1991-06-09 00:00:00</td>\n",
       "    </tr>\n",
       "    <tr>\n",
       "        <td>BU2075</td>\n",
       "        <td>You Can Combat Computer Stress!</td>\n",
       "        <td>business</td>\n",
       "        <td>0736</td>\n",
       "        <td>2.99</td>\n",
       "        <td>10125</td>\n",
       "        <td>24</td>\n",
       "        <td>18722</td>\n",
       "        <td>The latest medical and psychological techniques for living with the electronic office. Easy-to-understand explanations.</td>\n",
       "        <td>1991-06-30 00:00:00</td>\n",
       "    </tr>\n",
       "    <tr>\n",
       "        <td>BU7832</td>\n",
       "        <td>Straight Talk About Computers</td>\n",
       "        <td>business</td>\n",
       "        <td>1389</td>\n",
       "        <td>19.99</td>\n",
       "        <td>5000</td>\n",
       "        <td>10</td>\n",
       "        <td>4095</td>\n",
       "        <td>Annotated analysis of what computers can do for you: a no-hype guide for the critical user.</td>\n",
       "        <td>1991-06-22 00:00:00</td>\n",
       "    </tr>\n",
       "    <tr>\n",
       "        <td>MC2222</td>\n",
       "        <td>Silicon Valley Gastronomic Treats</td>\n",
       "        <td>mod_cook</td>\n",
       "        <td>0877</td>\n",
       "        <td>19.99</td>\n",
       "        <td>0</td>\n",
       "        <td>12</td>\n",
       "        <td>2032</td>\n",
       "        <td>Favorite recipes for quick, easy, and elegant meals.</td>\n",
       "        <td>1991-06-09 00:00:00</td>\n",
       "    </tr>\n",
       "</table>"
      ],
      "text/plain": [
       "[('BU1032', \"The Busy Executive's Database Guide\", 'business', '1389', 19.99, 5000, 10, 4095, 'An overview of available database systems with emphasis on common business applications. Illustrated.', '1991-06-12 00:00:00'),\n",
       " ('BU1111', 'Cooking with Computers: Surreptitious Balance Sheets', 'business', '1389', 11.95, 5000, 10, 3876, 'Helpful hints on how to use your electronic resources to the best advantage.', '1991-06-09 00:00:00'),\n",
       " ('BU2075', 'You Can Combat Computer Stress!', 'business', '0736', 2.99, 10125, 24, 18722, 'The latest medical and psychological techniques for living with the electronic office. Easy-to-understand explanations.', '1991-06-30 00:00:00'),\n",
       " ('BU7832', 'Straight Talk About Computers', 'business', '1389', 19.99, 5000, 10, 4095, 'Annotated analysis of what computers can do for you: a no-hype guide for the critical user.', '1991-06-22 00:00:00'),\n",
       " ('MC2222', 'Silicon Valley Gastronomic Treats', 'mod_cook', '0877', 19.99, 0, 12, 2032, 'Favorite recipes for quick, easy, and elegant meals.', '1991-06-09 00:00:00')]"
      ]
     },
     "execution_count": 13,
     "metadata": {},
     "output_type": "execute_result"
    }
   ],
   "source": [
    "%%sql\n",
    "Select *\n",
    "from titles\n",
    "\n",
    "limit 5"
   ]
  },
  {
   "cell_type": "code",
   "execution_count": 14,
   "id": "1e129b6f",
   "metadata": {},
   "outputs": [
    {
     "name": "stdout",
     "output_type": "stream",
     "text": [
      " * sqlite:////Users/nestormirandabaez/Ironhack/Module_1/Week_8/20-lab-sql-select/publications.db\n",
      "Done.\n"
     ]
    },
    {
     "data": {
      "text/html": [
       "<table>\n",
       "    <tr>\n",
       "        <th>au_id</th>\n",
       "        <th>au_lname</th>\n",
       "        <th>au_fname</th>\n",
       "        <th>phone</th>\n",
       "        <th>address</th>\n",
       "        <th>city</th>\n",
       "        <th>state</th>\n",
       "        <th>zip</th>\n",
       "        <th>contract</th>\n",
       "    </tr>\n",
       "    <tr>\n",
       "        <td>172-32-1176</td>\n",
       "        <td>White</td>\n",
       "        <td>Johnson</td>\n",
       "        <td>408 496-7223</td>\n",
       "        <td>10932 Bigge Rd.</td>\n",
       "        <td>Menlo Park</td>\n",
       "        <td>CA</td>\n",
       "        <td>94025</td>\n",
       "        <td>1</td>\n",
       "    </tr>\n",
       "    <tr>\n",
       "        <td>213-46-8915</td>\n",
       "        <td>Green</td>\n",
       "        <td>Marjorie</td>\n",
       "        <td>415 986-7020</td>\n",
       "        <td>309 63rd St. #411</td>\n",
       "        <td>Oakland</td>\n",
       "        <td>CA</td>\n",
       "        <td>94618</td>\n",
       "        <td>1</td>\n",
       "    </tr>\n",
       "    <tr>\n",
       "        <td>238-95-7766</td>\n",
       "        <td>Carson</td>\n",
       "        <td>Cheryl</td>\n",
       "        <td>415 548-7723</td>\n",
       "        <td>589 Darwin Ln.</td>\n",
       "        <td>Berkeley</td>\n",
       "        <td>CA</td>\n",
       "        <td>94705</td>\n",
       "        <td>1</td>\n",
       "    </tr>\n",
       "    <tr>\n",
       "        <td>267-41-2394</td>\n",
       "        <td>O&#x27;Leary</td>\n",
       "        <td>Michael</td>\n",
       "        <td>408 286-2428</td>\n",
       "        <td>22 Cleveland Av. #14</td>\n",
       "        <td>San Jose</td>\n",
       "        <td>CA</td>\n",
       "        <td>95128</td>\n",
       "        <td>1</td>\n",
       "    </tr>\n",
       "    <tr>\n",
       "        <td>274-80-9391</td>\n",
       "        <td>Straight</td>\n",
       "        <td>Dean</td>\n",
       "        <td>415 834-2919</td>\n",
       "        <td>5420 College Av.</td>\n",
       "        <td>Oakland</td>\n",
       "        <td>CA</td>\n",
       "        <td>94609</td>\n",
       "        <td>1</td>\n",
       "    </tr>\n",
       "</table>"
      ],
      "text/plain": [
       "[('172-32-1176', 'White', 'Johnson', '408 496-7223', '10932 Bigge Rd.', 'Menlo Park', 'CA', '94025', 1),\n",
       " ('213-46-8915', 'Green', 'Marjorie', '415 986-7020', '309 63rd St. #411', 'Oakland', 'CA', '94618', 1),\n",
       " ('238-95-7766', 'Carson', 'Cheryl', '415 548-7723', '589 Darwin Ln.', 'Berkeley', 'CA', '94705', 1),\n",
       " ('267-41-2394', \"O'Leary\", 'Michael', '408 286-2428', '22 Cleveland Av. #14', 'San Jose', 'CA', '95128', 1),\n",
       " ('274-80-9391', 'Straight', 'Dean', '415 834-2919', '5420 College Av.', 'Oakland', 'CA', '94609', 1)]"
      ]
     },
     "execution_count": 14,
     "metadata": {},
     "output_type": "execute_result"
    }
   ],
   "source": [
    "%%sql\n",
    "Select *\n",
    "from authors\n",
    "\n",
    "limit 5"
   ]
  },
  {
   "cell_type": "code",
   "execution_count": 15,
   "id": "ec3c6e0b",
   "metadata": {},
   "outputs": [
    {
     "name": "stdout",
     "output_type": "stream",
     "text": [
      " * sqlite:////Users/nestormirandabaez/Ironhack/Module_1/Week_8/20-lab-sql-select/publications.db\n",
      "Done.\n"
     ]
    },
    {
     "data": {
      "text/html": [
       "<table>\n",
       "    <tr>\n",
       "        <th>au_id</th>\n",
       "        <th>title_id</th>\n",
       "        <th>au_ord</th>\n",
       "        <th>royaltyper</th>\n",
       "    </tr>\n",
       "    <tr>\n",
       "        <td>172-32-1176</td>\n",
       "        <td>PS3333</td>\n",
       "        <td>1</td>\n",
       "        <td>100</td>\n",
       "    </tr>\n",
       "    <tr>\n",
       "        <td>213-46-8915</td>\n",
       "        <td>BU1032</td>\n",
       "        <td>2</td>\n",
       "        <td>40</td>\n",
       "    </tr>\n",
       "    <tr>\n",
       "        <td>213-46-8915</td>\n",
       "        <td>BU2075</td>\n",
       "        <td>1</td>\n",
       "        <td>100</td>\n",
       "    </tr>\n",
       "    <tr>\n",
       "        <td>238-95-7766</td>\n",
       "        <td>PC1035</td>\n",
       "        <td>1</td>\n",
       "        <td>100</td>\n",
       "    </tr>\n",
       "    <tr>\n",
       "        <td>267-41-2394</td>\n",
       "        <td>BU1111</td>\n",
       "        <td>2</td>\n",
       "        <td>40</td>\n",
       "    </tr>\n",
       "</table>"
      ],
      "text/plain": [
       "[('172-32-1176', 'PS3333', 1, 100),\n",
       " ('213-46-8915', 'BU1032', 2, 40),\n",
       " ('213-46-8915', 'BU2075', 1, 100),\n",
       " ('238-95-7766', 'PC1035', 1, 100),\n",
       " ('267-41-2394', 'BU1111', 2, 40)]"
      ]
     },
     "execution_count": 15,
     "metadata": {},
     "output_type": "execute_result"
    }
   ],
   "source": [
    "%%sql\n",
    "Select *\n",
    "from titleauthor\n",
    "\n",
    "limit 5"
   ]
  },
  {
   "cell_type": "markdown",
   "id": "985b8a88",
   "metadata": {},
   "source": [
    "#### Joining title author and authors we can see that some titles can have more than one author, thus, they share royalties"
   ]
  },
  {
   "cell_type": "code",
   "execution_count": 16,
   "id": "6d93f179",
   "metadata": {},
   "outputs": [
    {
     "name": "stdout",
     "output_type": "stream",
     "text": [
      " * sqlite:////Users/nestormirandabaez/Ironhack/Module_1/Week_8/20-lab-sql-select/publications.db\n",
      "Done.\n"
     ]
    },
    {
     "data": {
      "text/html": [
       "<table>\n",
       "    <tr>\n",
       "        <th>au_id</th>\n",
       "        <th>title_id</th>\n",
       "        <th>au_ord</th>\n",
       "        <th>royaltyper</th>\n",
       "        <th>au_id_1</th>\n",
       "        <th>au_lname</th>\n",
       "        <th>au_fname</th>\n",
       "        <th>phone</th>\n",
       "        <th>address</th>\n",
       "        <th>city</th>\n",
       "        <th>state</th>\n",
       "        <th>zip</th>\n",
       "        <th>contract</th>\n",
       "    </tr>\n",
       "    <tr>\n",
       "        <td>213-46-8915</td>\n",
       "        <td>BU1032</td>\n",
       "        <td>2</td>\n",
       "        <td>40</td>\n",
       "        <td>213-46-8915</td>\n",
       "        <td>Green</td>\n",
       "        <td>Marjorie</td>\n",
       "        <td>415 986-7020</td>\n",
       "        <td>309 63rd St. #411</td>\n",
       "        <td>Oakland</td>\n",
       "        <td>CA</td>\n",
       "        <td>94618</td>\n",
       "        <td>1</td>\n",
       "    </tr>\n",
       "    <tr>\n",
       "        <td>409-56-7008</td>\n",
       "        <td>BU1032</td>\n",
       "        <td>1</td>\n",
       "        <td>60</td>\n",
       "        <td>409-56-7008</td>\n",
       "        <td>Bennet</td>\n",
       "        <td>Abraham</td>\n",
       "        <td>415 658-9932</td>\n",
       "        <td>6223 Bateman St.</td>\n",
       "        <td>Berkeley</td>\n",
       "        <td>CA</td>\n",
       "        <td>94705</td>\n",
       "        <td>1</td>\n",
       "    </tr>\n",
       "    <tr>\n",
       "        <td>267-41-2394</td>\n",
       "        <td>BU1111</td>\n",
       "        <td>2</td>\n",
       "        <td>40</td>\n",
       "        <td>267-41-2394</td>\n",
       "        <td>O&#x27;Leary</td>\n",
       "        <td>Michael</td>\n",
       "        <td>408 286-2428</td>\n",
       "        <td>22 Cleveland Av. #14</td>\n",
       "        <td>San Jose</td>\n",
       "        <td>CA</td>\n",
       "        <td>95128</td>\n",
       "        <td>1</td>\n",
       "    </tr>\n",
       "    <tr>\n",
       "        <td>724-80-9391</td>\n",
       "        <td>BU1111</td>\n",
       "        <td>1</td>\n",
       "        <td>60</td>\n",
       "        <td>724-80-9391</td>\n",
       "        <td>MacFeather</td>\n",
       "        <td>Stearns</td>\n",
       "        <td>415 354-7128</td>\n",
       "        <td>44 Upland Hts.</td>\n",
       "        <td>Oakland</td>\n",
       "        <td>CA</td>\n",
       "        <td>94612</td>\n",
       "        <td>1</td>\n",
       "    </tr>\n",
       "    <tr>\n",
       "        <td>213-46-8915</td>\n",
       "        <td>BU2075</td>\n",
       "        <td>1</td>\n",
       "        <td>100</td>\n",
       "        <td>213-46-8915</td>\n",
       "        <td>Green</td>\n",
       "        <td>Marjorie</td>\n",
       "        <td>415 986-7020</td>\n",
       "        <td>309 63rd St. #411</td>\n",
       "        <td>Oakland</td>\n",
       "        <td>CA</td>\n",
       "        <td>94618</td>\n",
       "        <td>1</td>\n",
       "    </tr>\n",
       "</table>"
      ],
      "text/plain": [
       "[('213-46-8915', 'BU1032', 2, 40, '213-46-8915', 'Green', 'Marjorie', '415 986-7020', '309 63rd St. #411', 'Oakland', 'CA', '94618', 1),\n",
       " ('409-56-7008', 'BU1032', 1, 60, '409-56-7008', 'Bennet', 'Abraham', '415 658-9932', '6223 Bateman St.', 'Berkeley', 'CA', '94705', 1),\n",
       " ('267-41-2394', 'BU1111', 2, 40, '267-41-2394', \"O'Leary\", 'Michael', '408 286-2428', '22 Cleveland Av. #14', 'San Jose', 'CA', '95128', 1),\n",
       " ('724-80-9391', 'BU1111', 1, 60, '724-80-9391', 'MacFeather', 'Stearns', '415 354-7128', '44 Upland Hts.', 'Oakland', 'CA', '94612', 1),\n",
       " ('213-46-8915', 'BU2075', 1, 100, '213-46-8915', 'Green', 'Marjorie', '415 986-7020', '309 63rd St. #411', 'Oakland', 'CA', '94618', 1)]"
      ]
     },
     "execution_count": 16,
     "metadata": {},
     "output_type": "execute_result"
    }
   ],
   "source": [
    "%%sql\n",
    "Select *\n",
    "from titleauthor ta inner join authors a on a.au_id = ta.au_id\n",
    "\n",
    "order by title_id\n",
    "limit 5"
   ]
  },
  {
   "cell_type": "code",
   "execution_count": 17,
   "id": "efd06043",
   "metadata": {},
   "outputs": [],
   "source": [
    "## Start joining tables"
   ]
  },
  {
   "cell_type": "code",
   "execution_count": 18,
   "id": "42d286fd",
   "metadata": {},
   "outputs": [
    {
     "name": "stdout",
     "output_type": "stream",
     "text": [
      " * sqlite:////Users/nestormirandabaez/Ironhack/Module_1/Week_8/20-lab-sql-select/publications.db\n",
      "Done.\n"
     ]
    },
    {
     "data": {
      "text/html": [
       "<table>\n",
       "    <tr>\n",
       "        <th>au_id</th>\n",
       "        <th>au_lname</th>\n",
       "        <th>au_fname</th>\n",
       "        <th>phone</th>\n",
       "        <th>address</th>\n",
       "        <th>city</th>\n",
       "        <th>state</th>\n",
       "        <th>zip</th>\n",
       "        <th>contract</th>\n",
       "        <th>au_id_1</th>\n",
       "        <th>title_id</th>\n",
       "        <th>au_ord</th>\n",
       "        <th>royaltyper</th>\n",
       "        <th>title_id_1</th>\n",
       "        <th>title</th>\n",
       "        <th>type</th>\n",
       "        <th>pub_id</th>\n",
       "        <th>price</th>\n",
       "        <th>advance</th>\n",
       "        <th>royalty</th>\n",
       "        <th>ytd_sales</th>\n",
       "        <th>notes</th>\n",
       "        <th>pubdate</th>\n",
       "        <th>stor_id</th>\n",
       "        <th>ord_num</th>\n",
       "        <th>ord_date</th>\n",
       "        <th>qty</th>\n",
       "        <th>payterms</th>\n",
       "        <th>title_id_2</th>\n",
       "    </tr>\n",
       "    <tr>\n",
       "        <td>172-32-1176</td>\n",
       "        <td>White</td>\n",
       "        <td>Johnson</td>\n",
       "        <td>408 496-7223</td>\n",
       "        <td>10932 Bigge Rd.</td>\n",
       "        <td>Menlo Park</td>\n",
       "        <td>CA</td>\n",
       "        <td>94025</td>\n",
       "        <td>1</td>\n",
       "        <td>172-32-1176</td>\n",
       "        <td>PS3333</td>\n",
       "        <td>1</td>\n",
       "        <td>100</td>\n",
       "        <td>PS3333</td>\n",
       "        <td>Prolonged Data Deprivation: Four Case Studies</td>\n",
       "        <td>psychology</td>\n",
       "        <td>0736</td>\n",
       "        <td>19.99</td>\n",
       "        <td>2000</td>\n",
       "        <td>10</td>\n",
       "        <td>4072</td>\n",
       "        <td>What happens when the data runs dry?  Searching evaluations of information-shortage effects.</td>\n",
       "        <td>1991-06-12 00:00:00</td>\n",
       "        <td>7131</td>\n",
       "        <td>P3087a</td>\n",
       "        <td>1993-05-29 00:00:00</td>\n",
       "        <td>15</td>\n",
       "        <td>Net 60</td>\n",
       "        <td>PS3333</td>\n",
       "    </tr>\n",
       "    <tr>\n",
       "        <td>213-46-8915</td>\n",
       "        <td>Green</td>\n",
       "        <td>Marjorie</td>\n",
       "        <td>415 986-7020</td>\n",
       "        <td>309 63rd St. #411</td>\n",
       "        <td>Oakland</td>\n",
       "        <td>CA</td>\n",
       "        <td>94618</td>\n",
       "        <td>1</td>\n",
       "        <td>213-46-8915</td>\n",
       "        <td>BU1032</td>\n",
       "        <td>2</td>\n",
       "        <td>40</td>\n",
       "        <td>BU1032</td>\n",
       "        <td>The Busy Executive&#x27;s Database Guide</td>\n",
       "        <td>business</td>\n",
       "        <td>1389</td>\n",
       "        <td>19.99</td>\n",
       "        <td>5000</td>\n",
       "        <td>10</td>\n",
       "        <td>4095</td>\n",
       "        <td>An overview of available database systems with emphasis on common business applications. Illustrated.</td>\n",
       "        <td>1991-06-12 00:00:00</td>\n",
       "        <td>6380</td>\n",
       "        <td>6871</td>\n",
       "        <td>1994-09-14 00:00:00</td>\n",
       "        <td>5</td>\n",
       "        <td>Net 60</td>\n",
       "        <td>BU1032</td>\n",
       "    </tr>\n",
       "    <tr>\n",
       "        <td>213-46-8915</td>\n",
       "        <td>Green</td>\n",
       "        <td>Marjorie</td>\n",
       "        <td>415 986-7020</td>\n",
       "        <td>309 63rd St. #411</td>\n",
       "        <td>Oakland</td>\n",
       "        <td>CA</td>\n",
       "        <td>94618</td>\n",
       "        <td>1</td>\n",
       "        <td>213-46-8915</td>\n",
       "        <td>BU1032</td>\n",
       "        <td>2</td>\n",
       "        <td>40</td>\n",
       "        <td>BU1032</td>\n",
       "        <td>The Busy Executive&#x27;s Database Guide</td>\n",
       "        <td>business</td>\n",
       "        <td>1389</td>\n",
       "        <td>19.99</td>\n",
       "        <td>5000</td>\n",
       "        <td>10</td>\n",
       "        <td>4095</td>\n",
       "        <td>An overview of available database systems with emphasis on common business applications. Illustrated.</td>\n",
       "        <td>1991-06-12 00:00:00</td>\n",
       "        <td>8042</td>\n",
       "        <td>423LL930</td>\n",
       "        <td>1994-09-14 00:00:00</td>\n",
       "        <td>10</td>\n",
       "        <td>ON invoice</td>\n",
       "        <td>BU1032</td>\n",
       "    </tr>\n",
       "    <tr>\n",
       "        <td>213-46-8915</td>\n",
       "        <td>Green</td>\n",
       "        <td>Marjorie</td>\n",
       "        <td>415 986-7020</td>\n",
       "        <td>309 63rd St. #411</td>\n",
       "        <td>Oakland</td>\n",
       "        <td>CA</td>\n",
       "        <td>94618</td>\n",
       "        <td>1</td>\n",
       "        <td>213-46-8915</td>\n",
       "        <td>BU2075</td>\n",
       "        <td>1</td>\n",
       "        <td>100</td>\n",
       "        <td>BU2075</td>\n",
       "        <td>You Can Combat Computer Stress!</td>\n",
       "        <td>business</td>\n",
       "        <td>0736</td>\n",
       "        <td>2.99</td>\n",
       "        <td>10125</td>\n",
       "        <td>24</td>\n",
       "        <td>18722</td>\n",
       "        <td>The latest medical and psychological techniques for living with the electronic office. Easy-to-understand explanations.</td>\n",
       "        <td>1991-06-30 00:00:00</td>\n",
       "        <td>7896</td>\n",
       "        <td>X999</td>\n",
       "        <td>1993-02-21 00:00:00</td>\n",
       "        <td>35</td>\n",
       "        <td>ON invoice</td>\n",
       "        <td>BU2075</td>\n",
       "    </tr>\n",
       "    <tr>\n",
       "        <td>238-95-7766</td>\n",
       "        <td>Carson</td>\n",
       "        <td>Cheryl</td>\n",
       "        <td>415 548-7723</td>\n",
       "        <td>589 Darwin Ln.</td>\n",
       "        <td>Berkeley</td>\n",
       "        <td>CA</td>\n",
       "        <td>94705</td>\n",
       "        <td>1</td>\n",
       "        <td>238-95-7766</td>\n",
       "        <td>PC1035</td>\n",
       "        <td>1</td>\n",
       "        <td>100</td>\n",
       "        <td>PC1035</td>\n",
       "        <td>But Is It User Friendly?</td>\n",
       "        <td>popular_comp</td>\n",
       "        <td>1389</td>\n",
       "        <td>22.95</td>\n",
       "        <td>7000</td>\n",
       "        <td>16</td>\n",
       "        <td>8780</td>\n",
       "        <td>A survey of software for the naive user, focusing on the &#x27;friendliness&#x27; of each.</td>\n",
       "        <td>1991-06-30 00:00:00</td>\n",
       "        <td>8042</td>\n",
       "        <td>QA879.1</td>\n",
       "        <td>1993-05-22 00:00:00</td>\n",
       "        <td>30</td>\n",
       "        <td>Net 30</td>\n",
       "        <td>PC1035</td>\n",
       "    </tr>\n",
       "</table>"
      ],
      "text/plain": [
       "[('172-32-1176', 'White', 'Johnson', '408 496-7223', '10932 Bigge Rd.', 'Menlo Park', 'CA', '94025', 1, '172-32-1176', 'PS3333', 1, 100, 'PS3333', 'Prolonged Data Deprivation: Four Case Studies', 'psychology', '0736', 19.99, 2000, 10, 4072, 'What happens when the data runs dry?  Searching evaluations of information-shortage effects.', '1991-06-12 00:00:00', '7131', 'P3087a', '1993-05-29 00:00:00', 15, 'Net 60', 'PS3333'),\n",
       " ('213-46-8915', 'Green', 'Marjorie', '415 986-7020', '309 63rd St. #411', 'Oakland', 'CA', '94618', 1, '213-46-8915', 'BU1032', 2, 40, 'BU1032', \"The Busy Executive's Database Guide\", 'business', '1389', 19.99, 5000, 10, 4095, 'An overview of available database systems with emphasis on common business applications. Illustrated.', '1991-06-12 00:00:00', '6380', '6871', '1994-09-14 00:00:00', 5, 'Net 60', 'BU1032'),\n",
       " ('213-46-8915', 'Green', 'Marjorie', '415 986-7020', '309 63rd St. #411', 'Oakland', 'CA', '94618', 1, '213-46-8915', 'BU1032', 2, 40, 'BU1032', \"The Busy Executive's Database Guide\", 'business', '1389', 19.99, 5000, 10, 4095, 'An overview of available database systems with emphasis on common business applications. Illustrated.', '1991-06-12 00:00:00', '8042', '423LL930', '1994-09-14 00:00:00', 10, 'ON invoice', 'BU1032'),\n",
       " ('213-46-8915', 'Green', 'Marjorie', '415 986-7020', '309 63rd St. #411', 'Oakland', 'CA', '94618', 1, '213-46-8915', 'BU2075', 1, 100, 'BU2075', 'You Can Combat Computer Stress!', 'business', '0736', 2.99, 10125, 24, 18722, 'The latest medical and psychological techniques for living with the electronic office. Easy-to-understand explanations.', '1991-06-30 00:00:00', '7896', 'X999', '1993-02-21 00:00:00', 35, 'ON invoice', 'BU2075'),\n",
       " ('238-95-7766', 'Carson', 'Cheryl', '415 548-7723', '589 Darwin Ln.', 'Berkeley', 'CA', '94705', 1, '238-95-7766', 'PC1035', 1, 100, 'PC1035', 'But Is It User Friendly?', 'popular_comp', '1389', 22.95, 7000, 16, 8780, \"A survey of software for the naive user, focusing on the 'friendliness' of each.\", '1991-06-30 00:00:00', '8042', 'QA879.1', '1993-05-22 00:00:00', 30, 'Net 30', 'PC1035')]"
      ]
     },
     "execution_count": 18,
     "metadata": {},
     "output_type": "execute_result"
    }
   ],
   "source": [
    "%%sql\n",
    "Select *\n",
    "from authors a\n",
    "left join titleauthor ta on a.au_id = ta.au_id\n",
    "inner join titles t on ta.title_id = t.title_id\t\n",
    "left join sales s on t.title_id = s.title_id\n",
    "\n",
    "limit 5"
   ]
  },
  {
   "cell_type": "markdown",
   "id": "73be5f3d",
   "metadata": {},
   "source": [
    "### Step 1"
   ]
  },
  {
   "cell_type": "code",
   "execution_count": 39,
   "id": "cbb4b347",
   "metadata": {},
   "outputs": [
    {
     "name": "stdout",
     "output_type": "stream",
     "text": [
      " * sqlite:////Users/nestormirandabaez/Ironhack/Module_1/Week_8/20-lab-sql-select/publications.db\n",
      "Done.\n"
     ]
    },
    {
     "data": {
      "text/html": [
       "<table>\n",
       "    <tr>\n",
       "        <th>TITLE ID</th>\n",
       "        <th>Author ID</th>\n",
       "        <th>SALES_ROYALTIES</th>\n",
       "    </tr>\n",
       "    <tr>\n",
       "        <td>PS3333</td>\n",
       "        <td>172-32-1176</td>\n",
       "        <td>29.984999999999996</td>\n",
       "    </tr>\n",
       "    <tr>\n",
       "        <td>BU1032</td>\n",
       "        <td>213-46-8915</td>\n",
       "        <td>3.9979999999999993</td>\n",
       "    </tr>\n",
       "    <tr>\n",
       "        <td>BU1032</td>\n",
       "        <td>213-46-8915</td>\n",
       "        <td>7.995999999999999</td>\n",
       "    </tr>\n",
       "    <tr>\n",
       "        <td>BU2075</td>\n",
       "        <td>213-46-8915</td>\n",
       "        <td>25.116000000000003</td>\n",
       "    </tr>\n",
       "    <tr>\n",
       "        <td>PC1035</td>\n",
       "        <td>238-95-7766</td>\n",
       "        <td>110.16</td>\n",
       "    </tr>\n",
       "    <tr>\n",
       "        <td>BU1111</td>\n",
       "        <td>267-41-2394</td>\n",
       "        <td>11.95</td>\n",
       "    </tr>\n",
       "    <tr>\n",
       "        <td>TC7777</td>\n",
       "        <td>267-41-2394</td>\n",
       "        <td>8.994</td>\n",
       "    </tr>\n",
       "    <tr>\n",
       "        <td>BU7832</td>\n",
       "        <td>274-80-9391</td>\n",
       "        <td>29.984999999999996</td>\n",
       "    </tr>\n",
       "    <tr>\n",
       "        <td>BU1032</td>\n",
       "        <td>409-56-7008</td>\n",
       "        <td>5.996999999999999</td>\n",
       "    </tr>\n",
       "    <tr>\n",
       "        <td>BU1032</td>\n",
       "        <td>409-56-7008</td>\n",
       "        <td>11.993999999999998</td>\n",
       "    </tr>\n",
       "    <tr>\n",
       "        <td>PC8888</td>\n",
       "        <td>427-17-2319</td>\n",
       "        <td>50</td>\n",
       "    </tr>\n",
       "    <tr>\n",
       "        <td>TC7777</td>\n",
       "        <td>472-27-2349</td>\n",
       "        <td>8.994</td>\n",
       "    </tr>\n",
       "    <tr>\n",
       "        <td>PC9999</td>\n",
       "        <td>486-29-1786</td>\n",
       "        <td>None</td>\n",
       "    </tr>\n",
       "    <tr>\n",
       "        <td>PS7777</td>\n",
       "        <td>486-29-1786</td>\n",
       "        <td>19.975</td>\n",
       "    </tr>\n",
       "    <tr>\n",
       "        <td>TC4203</td>\n",
       "        <td>648-92-1872</td>\n",
       "        <td>33.46</td>\n",
       "    </tr>\n",
       "    <tr>\n",
       "        <td>TC7777</td>\n",
       "        <td>672-71-3249</td>\n",
       "        <td>11.992</td>\n",
       "    </tr>\n",
       "    <tr>\n",
       "        <td>MC2222</td>\n",
       "        <td>712-45-1867</td>\n",
       "        <td>23.987999999999996</td>\n",
       "    </tr>\n",
       "    <tr>\n",
       "        <td>MC3021</td>\n",
       "        <td>722-51-5454</td>\n",
       "        <td>13.455</td>\n",
       "    </tr>\n",
       "    <tr>\n",
       "        <td>MC3021</td>\n",
       "        <td>722-51-5454</td>\n",
       "        <td>8.073</td>\n",
       "    </tr>\n",
       "    <tr>\n",
       "        <td>BU1111</td>\n",
       "        <td>724-80-9391</td>\n",
       "        <td>17.925</td>\n",
       "    </tr>\n",
       "</table>"
      ],
      "text/plain": [
       "[('PS3333', '172-32-1176', 29.984999999999996),\n",
       " ('BU1032', '213-46-8915', 3.9979999999999993),\n",
       " ('BU1032', '213-46-8915', 7.995999999999999),\n",
       " ('BU2075', '213-46-8915', 25.116000000000003),\n",
       " ('PC1035', '238-95-7766', 110.16),\n",
       " ('BU1111', '267-41-2394', 11.95),\n",
       " ('TC7777', '267-41-2394', 8.994),\n",
       " ('BU7832', '274-80-9391', 29.984999999999996),\n",
       " ('BU1032', '409-56-7008', 5.996999999999999),\n",
       " ('BU1032', '409-56-7008', 11.993999999999998),\n",
       " ('PC8888', '427-17-2319', 50),\n",
       " ('TC7777', '472-27-2349', 8.994),\n",
       " ('PC9999', '486-29-1786', None),\n",
       " ('PS7777', '486-29-1786', 19.975),\n",
       " ('TC4203', '648-92-1872', 33.46),\n",
       " ('TC7777', '672-71-3249', 11.992),\n",
       " ('MC2222', '712-45-1867', 23.987999999999996),\n",
       " ('MC3021', '722-51-5454', 13.455),\n",
       " ('MC3021', '722-51-5454', 8.073),\n",
       " ('BU1111', '724-80-9391', 17.925)]"
      ]
     },
     "execution_count": 39,
     "metadata": {},
     "output_type": "execute_result"
    }
   ],
   "source": [
    "%%sql\n",
    "Select t.title_id as 'TITLE ID', a.au_id as 'Author ID', t.price * s.qty * t.royalty/100 * royaltyper/100 as 'SALES_ROYALTIES'\n",
    "from authors a\n",
    "left join titleauthor ta on a.au_id = ta.au_id\n",
    "inner join titles t on ta.title_id = t.title_id\t\n",
    "left join sales s on t.title_id = s.title_id\n",
    "\n",
    "limit 20"
   ]
  },
  {
   "cell_type": "markdown",
   "id": "645d3652",
   "metadata": {},
   "source": [
    "### Step 2"
   ]
  },
  {
   "cell_type": "code",
   "execution_count": 56,
   "id": "ab9f65af",
   "metadata": {},
   "outputs": [
    {
     "name": "stdout",
     "output_type": "stream",
     "text": [
      " * sqlite:////Users/nestormirandabaez/Ironhack/Module_1/Week_8/20-lab-sql-select/publications.db\n",
      "Done.\n"
     ]
    },
    {
     "data": {
      "text/html": [
       "<table>\n",
       "    <tr>\n",
       "        <th>TITLE ID</th>\n",
       "        <th>Author ID</th>\n",
       "        <th>SALES_ROYALTIES</th>\n",
       "    </tr>\n",
       "    <tr>\n",
       "        <td>BU1032</td>\n",
       "        <td>213-46-8915</td>\n",
       "        <td>4.0</td>\n",
       "    </tr>\n",
       "    <tr>\n",
       "        <td>BU1032</td>\n",
       "        <td>409-56-7008</td>\n",
       "        <td>6.0</td>\n",
       "    </tr>\n",
       "    <tr>\n",
       "        <td>BU1111</td>\n",
       "        <td>267-41-2394</td>\n",
       "        <td>11.95</td>\n",
       "    </tr>\n",
       "    <tr>\n",
       "        <td>BU1111</td>\n",
       "        <td>724-80-9391</td>\n",
       "        <td>17.93</td>\n",
       "    </tr>\n",
       "    <tr>\n",
       "        <td>BU2075</td>\n",
       "        <td>213-46-8915</td>\n",
       "        <td>25.12</td>\n",
       "    </tr>\n",
       "    <tr>\n",
       "        <td>BU7832</td>\n",
       "        <td>274-80-9391</td>\n",
       "        <td>29.99</td>\n",
       "    </tr>\n",
       "    <tr>\n",
       "        <td>MC2222</td>\n",
       "        <td>712-45-1867</td>\n",
       "        <td>23.99</td>\n",
       "    </tr>\n",
       "    <tr>\n",
       "        <td>MC3021</td>\n",
       "        <td>722-51-5454</td>\n",
       "        <td>8.07</td>\n",
       "    </tr>\n",
       "    <tr>\n",
       "        <td>MC3021</td>\n",
       "        <td>899-46-2035</td>\n",
       "        <td>2.69</td>\n",
       "    </tr>\n",
       "    <tr>\n",
       "        <td>PC1035</td>\n",
       "        <td>238-95-7766</td>\n",
       "        <td>110.16</td>\n",
       "    </tr>\n",
       "    <tr>\n",
       "        <td>PC8888</td>\n",
       "        <td>427-17-2319</td>\n",
       "        <td>50.0</td>\n",
       "    </tr>\n",
       "    <tr>\n",
       "        <td>PC8888</td>\n",
       "        <td>846-92-7186</td>\n",
       "        <td>50.0</td>\n",
       "    </tr>\n",
       "    <tr>\n",
       "        <td>PC9999</td>\n",
       "        <td>486-29-1786</td>\n",
       "        <td>0</td>\n",
       "    </tr>\n",
       "    <tr>\n",
       "        <td>PS1372</td>\n",
       "        <td>724-80-9391</td>\n",
       "        <td>10.8</td>\n",
       "    </tr>\n",
       "    <tr>\n",
       "        <td>PS1372</td>\n",
       "        <td>756-30-7391</td>\n",
       "        <td>32.39</td>\n",
       "    </tr>\n",
       "    <tr>\n",
       "        <td>PS2091</td>\n",
       "        <td>899-46-2035</td>\n",
       "        <td>1.97</td>\n",
       "    </tr>\n",
       "    <tr>\n",
       "        <td>PS2091</td>\n",
       "        <td>998-72-3567</td>\n",
       "        <td>1.97</td>\n",
       "    </tr>\n",
       "    <tr>\n",
       "        <td>PS2106</td>\n",
       "        <td>998-72-3567</td>\n",
       "        <td>17.0</td>\n",
       "    </tr>\n",
       "    <tr>\n",
       "        <td>PS3333</td>\n",
       "        <td>172-32-1176</td>\n",
       "        <td>29.99</td>\n",
       "    </tr>\n",
       "    <tr>\n",
       "        <td>PS7777</td>\n",
       "        <td>486-29-1786</td>\n",
       "        <td>19.98</td>\n",
       "    </tr>\n",
       "</table>"
      ],
      "text/plain": [
       "[('BU1032', '213-46-8915', 4.0),\n",
       " ('BU1032', '409-56-7008', 6.0),\n",
       " ('BU1111', '267-41-2394', 11.95),\n",
       " ('BU1111', '724-80-9391', 17.93),\n",
       " ('BU2075', '213-46-8915', 25.12),\n",
       " ('BU7832', '274-80-9391', 29.99),\n",
       " ('MC2222', '712-45-1867', 23.99),\n",
       " ('MC3021', '722-51-5454', 8.07),\n",
       " ('MC3021', '899-46-2035', 2.69),\n",
       " ('PC1035', '238-95-7766', 110.16),\n",
       " ('PC8888', '427-17-2319', 50.0),\n",
       " ('PC8888', '846-92-7186', 50.0),\n",
       " ('PC9999', '486-29-1786', 0),\n",
       " ('PS1372', '724-80-9391', 10.8),\n",
       " ('PS1372', '756-30-7391', 32.39),\n",
       " ('PS2091', '899-46-2035', 1.97),\n",
       " ('PS2091', '998-72-3567', 1.97),\n",
       " ('PS2106', '998-72-3567', 17.0),\n",
       " ('PS3333', '172-32-1176', 29.99),\n",
       " ('PS7777', '486-29-1786', 19.98)]"
      ]
     },
     "execution_count": 56,
     "metadata": {},
     "output_type": "execute_result"
    }
   ],
   "source": [
    "%%sql\n",
    "Select t.title_id as 'TITLE ID', a.au_id as 'Author ID', ifnull(round(t.price * s.qty * t.royalty/100 * royaltyper/100,2),0) as 'SALES_ROYALTIES'\n",
    "from authors a\n",
    "left join titleauthor ta on a.au_id = ta.au_id\n",
    "inner join titles t on ta.title_id = t.title_id\t\n",
    "left join sales s on t.title_id = s.title_id\n",
    "\n",
    "group by t.title_id, a.au_id\n",
    "order by t.title_id, a.au_id\n",
    "\n",
    "limit 20"
   ]
  },
  {
   "cell_type": "markdown",
   "id": "ac33d862",
   "metadata": {},
   "source": [
    "### Step 3"
   ]
  },
  {
   "cell_type": "code",
   "execution_count": 44,
   "id": "a089bb87",
   "metadata": {},
   "outputs": [
    {
     "name": "stdout",
     "output_type": "stream",
     "text": [
      " * sqlite:////Users/nestormirandabaez/Ironhack/Module_1/Week_8/20-lab-sql-select/publications.db\n",
      "Done.\n"
     ]
    },
    {
     "data": {
      "text/html": [
       "<table>\n",
       "    <tr>\n",
       "        <th>advance</th>\n",
       "    </tr>\n",
       "    <tr>\n",
       "        <td>5000</td>\n",
       "    </tr>\n",
       "    <tr>\n",
       "        <td>5000</td>\n",
       "    </tr>\n",
       "    <tr>\n",
       "        <td>10125</td>\n",
       "    </tr>\n",
       "    <tr>\n",
       "        <td>5000</td>\n",
       "    </tr>\n",
       "    <tr>\n",
       "        <td>0</td>\n",
       "    </tr>\n",
       "</table>"
      ],
      "text/plain": [
       "[(5000,), (5000,), (10125,), (5000,), (0,)]"
      ]
     },
     "execution_count": 44,
     "metadata": {},
     "output_type": "execute_result"
    }
   ],
   "source": [
    "%%sql\n",
    "Select advance\n",
    "from titles\n",
    "\n",
    "limit 5"
   ]
  },
  {
   "cell_type": "markdown",
   "id": "34b8a9fc",
   "metadata": {},
   "source": [
    "#### Step 3 Solution"
   ]
  },
  {
   "cell_type": "code",
   "execution_count": 58,
   "id": "e5c3e6ac",
   "metadata": {},
   "outputs": [
    {
     "name": "stdout",
     "output_type": "stream",
     "text": [
      " * sqlite:////Users/nestormirandabaez/Ironhack/Module_1/Week_8/20-lab-sql-select/publications.db\n",
      "Done.\n"
     ]
    },
    {
     "data": {
      "text/html": [
       "<table>\n",
       "    <tr>\n",
       "        <th>Author ID</th>\n",
       "        <th>PROFIT</th>\n",
       "    </tr>\n",
       "    <tr>\n",
       "        <td>722-51-5454</td>\n",
       "        <td>15008.07</td>\n",
       "    </tr>\n",
       "    <tr>\n",
       "        <td>899-46-2035</td>\n",
       "        <td>15002.69</td>\n",
       "    </tr>\n",
       "    <tr>\n",
       "        <td>213-46-8915</td>\n",
       "        <td>10150.12</td>\n",
       "    </tr>\n",
       "</table>"
      ],
      "text/plain": [
       "[('722-51-5454', 15008.07),\n",
       " ('899-46-2035', 15002.69),\n",
       " ('213-46-8915', 10150.12)]"
      ]
     },
     "execution_count": 58,
     "metadata": {},
     "output_type": "execute_result"
    }
   ],
   "source": [
    "%%sql\n",
    "Select a.au_id as 'Author ID', ifnull(round(t.advance+(t.price * s.qty * t.royalty/100 * royaltyper/100),2),0) as 'PROFIT'\n",
    "from authors a\n",
    "left join titleauthor ta on a.au_id = ta.au_id\n",
    "inner join titles t on ta.title_id = t.title_id\t\n",
    "left join sales s on t.title_id = s.title_id\n",
    "\n",
    "group by t.title_id, a.au_id\n",
    "order by PROFIT desc\n",
    "\n",
    "limit 3"
   ]
  },
  {
   "cell_type": "markdown",
   "id": "0ed4bcb9",
   "metadata": {},
   "source": [
    "## Challenge 2\n"
   ]
  },
  {
   "cell_type": "code",
   "execution_count": 59,
   "id": "8f588d6c",
   "metadata": {},
   "outputs": [
    {
     "name": "stdout",
     "output_type": "stream",
     "text": [
      " * sqlite:////Users/nestormirandabaez/Ironhack/Module_1/Week_8/20-lab-sql-select/publications.db\n",
      "Done.\n"
     ]
    },
    {
     "data": {
      "text/plain": [
       "[]"
      ]
     },
     "execution_count": 59,
     "metadata": {},
     "output_type": "execute_result"
    }
   ],
   "source": [
    "%%sql\n",
    "CREATE TABLE 'most_profiting_authors' as\n",
    "\n",
    "Select a.au_id as 'Author ID', ifnull(round(t.advance+(t.price * s.qty * t.royalty/100 * royaltyper/100),2),0) as 'PROFIT'\n",
    "from authors a\n",
    "left join titleauthor ta on a.au_id = ta.au_id\n",
    "inner join titles t on ta.title_id = t.title_id\t\n",
    "left join sales s on t.title_id = s.title_id\n",
    "\n",
    "group by t.title_id, a.au_id\n",
    "order by PROFIT desc\n",
    "\n",
    "limit 3"
   ]
  },
  {
   "cell_type": "code",
   "execution_count": 60,
   "id": "f7fd3af0",
   "metadata": {},
   "outputs": [
    {
     "name": "stdout",
     "output_type": "stream",
     "text": [
      " * sqlite:////Users/nestormirandabaez/Ironhack/Module_1/Week_8/20-lab-sql-select/publications.db\n",
      "Done.\n"
     ]
    },
    {
     "data": {
      "text/html": [
       "<table>\n",
       "    <tr>\n",
       "        <th>Author ID</th>\n",
       "        <th>PROFIT</th>\n",
       "    </tr>\n",
       "    <tr>\n",
       "        <td>722-51-5454</td>\n",
       "        <td>15008.07</td>\n",
       "    </tr>\n",
       "    <tr>\n",
       "        <td>899-46-2035</td>\n",
       "        <td>15002.69</td>\n",
       "    </tr>\n",
       "    <tr>\n",
       "        <td>213-46-8915</td>\n",
       "        <td>10150.12</td>\n",
       "    </tr>\n",
       "</table>"
      ],
      "text/plain": [
       "[('722-51-5454', 15008.07),\n",
       " ('899-46-2035', 15002.69),\n",
       " ('213-46-8915', 10150.12)]"
      ]
     },
     "execution_count": 60,
     "metadata": {},
     "output_type": "execute_result"
    }
   ],
   "source": [
    "%%sql\n",
    "Select *\n",
    "from most_profiting_authors"
   ]
  },
  {
   "cell_type": "code",
   "execution_count": 61,
   "id": "bb71a512",
   "metadata": {},
   "outputs": [
    {
     "name": "stdout",
     "output_type": "stream",
     "text": [
      " * sqlite:////Users/nestormirandabaez/Ironhack/Module_1/Week_8/20-lab-sql-select/publications.db\n",
      "Done.\n"
     ]
    },
    {
     "data": {
      "text/html": [
       "<table>\n",
       "    <tr>\n",
       "        <th>name</th>\n",
       "    </tr>\n",
       "    <tr>\n",
       "        <td>authors</td>\n",
       "    </tr>\n",
       "    <tr>\n",
       "        <td>discounts</td>\n",
       "    </tr>\n",
       "    <tr>\n",
       "        <td>employee</td>\n",
       "    </tr>\n",
       "    <tr>\n",
       "        <td>jobs</td>\n",
       "    </tr>\n",
       "    <tr>\n",
       "        <td>pub_info</td>\n",
       "    </tr>\n",
       "    <tr>\n",
       "        <td>publishers</td>\n",
       "    </tr>\n",
       "    <tr>\n",
       "        <td>roysched</td>\n",
       "    </tr>\n",
       "    <tr>\n",
       "        <td>sales</td>\n",
       "    </tr>\n",
       "    <tr>\n",
       "        <td>stores</td>\n",
       "    </tr>\n",
       "    <tr>\n",
       "        <td>titleauthor</td>\n",
       "    </tr>\n",
       "    <tr>\n",
       "        <td>titles</td>\n",
       "    </tr>\n",
       "    <tr>\n",
       "        <td>most_profiting_authors</td>\n",
       "    </tr>\n",
       "</table>"
      ],
      "text/plain": [
       "[('authors',),\n",
       " ('discounts',),\n",
       " ('employee',),\n",
       " ('jobs',),\n",
       " ('pub_info',),\n",
       " ('publishers',),\n",
       " ('roysched',),\n",
       " ('sales',),\n",
       " ('stores',),\n",
       " ('titleauthor',),\n",
       " ('titles',),\n",
       " ('most_profiting_authors',)]"
      ]
     },
     "execution_count": 61,
     "metadata": {},
     "output_type": "execute_result"
    }
   ],
   "source": [
    "%%sql\n",
    "Select name \n",
    "from sqlite_master\n",
    "where type='table'"
   ]
  },
  {
   "cell_type": "code",
   "execution_count": null,
   "id": "a708e506",
   "metadata": {},
   "outputs": [],
   "source": []
  }
 ],
 "metadata": {
  "kernelspec": {
   "display_name": "Python 3",
   "language": "python",
   "name": "python3"
  },
  "language_info": {
   "codemirror_mode": {
    "name": "ipython",
    "version": 3
   },
   "file_extension": ".py",
   "mimetype": "text/x-python",
   "name": "python",
   "nbconvert_exporter": "python",
   "pygments_lexer": "ipython3",
   "version": "3.9.5"
  },
  "varInspector": {
   "cols": {
    "lenName": 16,
    "lenType": 16,
    "lenVar": 40
   },
   "kernels_config": {
    "python": {
     "delete_cmd_postfix": "",
     "delete_cmd_prefix": "del ",
     "library": "var_list.py",
     "varRefreshCmd": "print(var_dic_list())"
    },
    "r": {
     "delete_cmd_postfix": ") ",
     "delete_cmd_prefix": "rm(",
     "library": "var_list.r",
     "varRefreshCmd": "cat(var_dic_list()) "
    }
   },
   "types_to_exclude": [
    "module",
    "function",
    "builtin_function_or_method",
    "instance",
    "_Feature"
   ],
   "window_display": false
  }
 },
 "nbformat": 4,
 "nbformat_minor": 5
}
